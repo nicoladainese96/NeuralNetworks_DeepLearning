{
 "cells": [
  {
   "cell_type": "code",
   "execution_count": 2,
   "metadata": {
    "colab": {},
    "colab_type": "code",
    "id": "Ygmi3uDgVIn_"
   },
   "outputs": [],
   "source": [
    "import numpy as np\n",
    "import matplotlib.pyplot as plt\n",
    "import time # used to evaluate time performances\n",
    "import os\n",
    "import random\n",
    "from tqdm import tqdm, tnrange\n",
    "\n",
    "import torch\n",
    "from torch import nn\n",
    "import torch.nn.functional as F\n",
    "import torch.optim as optim\n",
    "from torch.utils.data import DataLoader, Dataset, TensorDataset, SubsetRandomSampler\n",
    "from torch.autograd import Variable\n",
    "from torchvision import transforms\n",
    "from torchvision.datasets import MNIST"
   ]
  },
  {
   "cell_type": "markdown",
   "metadata": {},
   "source": [
    "# Functions\n",
    "\n",
    "Note: I tried also cross validation, but the validation loss on the K folds was basically the same for a given set of Hyper-Parameters (HP), thus I decided to use a single training-validation split with proportions 80-20."
   ]
  },
  {
   "cell_type": "code",
   "execution_count": 3,
   "metadata": {},
   "outputs": [],
   "source": [
    "def GridSearch(model, train_loader, val_loader, params_comb, checkpoint=True, \n",
    "               save_dir='checkpoint', parent_dir='.', verbose=False):\n",
    "    \"\"\"\n",
    "    Parameters\n",
    "    ----------\n",
    "    model      : class of the predictor\n",
    "        Must be instantiated as model(**params)\n",
    "    train_loader: torch DataLoader\n",
    "        Loads the training set\n",
    "    val_loader: torch DataLoader\n",
    "        Loads the validation set\n",
    "    params_comb: list of dictionaries {'model_HP':value}\n",
    "        All combinations of hyper-parameters to be evaluated\n",
    "    checkpoint: bool\n",
    "        If True, saves dictionary and parameters after each\n",
    "        parameter evaluated\n",
    "    save_dir: str\n",
    "        Path to the directory where to save checkpoints\n",
    "    \n",
    "    Returns\n",
    "    -------\n",
    "    scoring    : list of all the losses \n",
    "    epochs: list of the number of epochs of training for each \n",
    "                 configuration of HPs\n",
    "    \"\"\"\n",
    "    import time\n",
    "    scoring = []\n",
    "    deviations = []\n",
    "    train_epochs = []\n",
    "    combinations = len(params_comb)\n",
    "    init_time = time.time()\n",
    "    for i in range(combinations):\n",
    "        start = time.time()\n",
    "        params = params_comb[i]\n",
    "        train_loss_log, val_loss_log = train_torchNN(model, train_loader, val_loader, train_log=True,\n",
    "                                                 verbose=verbose, debug=False, **params) \n",
    "        scoring.append(val_loss_log[-1])\n",
    "        train_epochs.append(len(val_loss_log))\n",
    "        \n",
    "        print('\\nParameters configuration %d out of %d'%(i+1,len(params_comb)))\n",
    "        print_HP_score(params,scoring[-1])\n",
    "        finish = time.time()\n",
    "        print('Time for evaluation: %.1f s'%(finish-start))\n",
    "        time_to_finish = (combinations-i-1)*(finish-init_time)/(i+1)\n",
    "        \n",
    "        if time_to_finish > 3600:\n",
    "            print('Estimated time to finish : %.2f h'%(time_to_finish/3600), '\\n')\n",
    "        elif time_to_finish < 3600 and time_to_finish > 60:\n",
    "            print('Estimated time to finish : %.2f min'%(time_to_finish/60), '\\n')\n",
    "        else:\n",
    "            print('Estimated time to finish : %.2f s'%(time_to_finish), '\\n')\n",
    "            \n",
    "        if checkpoint:\n",
    "            if save_dir not in os.listdir(parent_dir):\n",
    "                print(\"Creating directory \"+save_dir)\n",
    "                os.mkdir(parent_dir+'/'+save_dir)\n",
    "            \n",
    "            scores_filename = 'scores.npy'\n",
    "            dict_filename = 'dict.npy'\n",
    "            scores_path = parent_dir+'/'+save_dir+'/'+scores_filename\n",
    "            dict_path = parent_dir+'/'+save_dir+'/'+dict_filename\n",
    "            \n",
    "            # load from save_dir if file is present\n",
    "            if scores_filename not in os.listdir(parent_dir+'/'+save_dir):\n",
    "                print('Creating new checkpoint...')\n",
    "                checkpoint_scores = []\n",
    "                checkpoint_dict = []\n",
    "            else:\n",
    "                print('Loading checkpoint...')\n",
    "                checkpoint_scores = list(np.load(scores_path))\n",
    "                checkpoint_dict = list(np.load(dict_path, allow_pickle=True))\n",
    "                print('Total number of configurations evaluated: ', len(checkpoint_scores))\n",
    "            \n",
    "            # append update\n",
    "            checkpoint_scores.append(val_loss_log[-1])\n",
    "            checkpoint_dict.append(params_comb[i])\n",
    "            \n",
    "            # save to save_dir ([:-4] is to remove .npy from strings)\n",
    "            print('Saving parameters and losses...')\n",
    "            np.save(scores_path[:-4], checkpoint_scores) \n",
    "            np.save(dict_path[:-4], checkpoint_dict)\n",
    "            \n",
    "    return scoring, train_epochs"
   ]
  },
  {
   "cell_type": "code",
   "execution_count": 4,
   "metadata": {
    "colab": {},
    "colab_type": "code",
    "id": "lQW8LQCyjT5c"
   },
   "outputs": [],
   "source": [
    "def print_parameters(params):\n",
    "    print(\"Parameters: \")\n",
    "    print('='*75)\n",
    "    for key in params:\n",
    "        if (key == 'lr'):\n",
    "            print(key, '\\t \\t', params[key])\n",
    "        else:\n",
    "            print(key, '\\t', params[key])\n",
    "    print('='*75)\n",
    "\n",
    "def print_HP_score(params,score):\n",
    "    print_parameters(params)\n",
    "    print(\"Loss: %.4f \"%(score))"
   ]
  },
  {
   "cell_type": "code",
   "execution_count": 5,
   "metadata": {
    "colab": {},
    "colab_type": "code",
    "id": "mF-93_VUju9T"
   },
   "outputs": [],
   "source": [
    "#%% Define the network architecture\n",
    "class Autoencoder(nn.Module):\n",
    "    def __init__(self, encoded_space_dim, dropout=0.2):\n",
    "        super().__init__()\n",
    "        \n",
    "        ### Encoder\n",
    "        self.encoder_cnn = nn.Sequential(\n",
    "            nn.Conv2d(1, 8, 3, stride=2, padding=1),\n",
    "            nn.ReLU(True),\n",
    "            nn.Dropout(dropout),\n",
    "            nn.Conv2d(8, 16, 3, stride=2, padding=1),\n",
    "            nn.ReLU(True),\n",
    "            nn.Dropout(dropout),\n",
    "            nn.Conv2d(16, 32, 3, stride=2, padding=0),\n",
    "            nn.ReLU(True),\n",
    "            nn.Dropout(dropout)\n",
    "        )\n",
    "        self.encoder_lin = nn.Sequential(\n",
    "            nn.Linear(3 * 3 * 32, 64),\n",
    "            nn.ReLU(True),\n",
    "            nn.Dropout(dropout),\n",
    "            nn.Linear(64, encoded_space_dim)\n",
    "        )\n",
    "        \n",
    "        ### Decoder\n",
    "        self.decoder_lin = nn.Sequential(\n",
    "            nn.Linear(encoded_space_dim, 64),\n",
    "            nn.ReLU(True),\n",
    "            nn.Dropout(dropout),\n",
    "            nn.Linear(64, 3 * 3 * 32),\n",
    "            nn.ReLU(True),\n",
    "            nn.Dropout(dropout)\n",
    "        )\n",
    "        self.decoder_conv = nn.Sequential(\n",
    "            nn.ConvTranspose2d(32, 16, 3, stride=2, output_padding=0),\n",
    "            nn.ReLU(True),\n",
    "            nn.Dropout(dropout),\n",
    "            nn.ConvTranspose2d(16, 8, 3, stride=2, padding=1, output_padding=1),\n",
    "            nn.ReLU(True),\n",
    "            nn.Dropout(dropout),\n",
    "            nn.ConvTranspose2d(8, 1, 3, stride=2, padding=1, output_padding=1)\n",
    "        )\n",
    "\n",
    "    def forward(self, x):\n",
    "        x = self.encode(x)\n",
    "        x = self.decode(x)\n",
    "        return x\n",
    "\n",
    "    def encode(self, x):\n",
    "        # Apply convolutions\n",
    "        x = self.encoder_cnn(x)\n",
    "        # Flatten\n",
    "        x = x.view([x.size(0), -1])\n",
    "        # Apply linear layers\n",
    "        x = self.encoder_lin(x)\n",
    "        return x\n",
    "    \n",
    "    def decode(self, x):\n",
    "        # Apply linear layers\n",
    "        x = self.decoder_lin(x)\n",
    "        # Reshape\n",
    "        x = x.view([-1, 32, 3, 3])\n",
    "        # Apply transposed convolutions\n",
    "        x = self.decoder_conv(x)\n",
    "        x = torch.sigmoid(x)\n",
    "        return x"
   ]
  },
  {
   "cell_type": "code",
   "execution_count": 6,
   "metadata": {},
   "outputs": [],
   "source": [
    "### Testing function\n",
    "def test_epoch(net, dataloader, loss_fn, optimizer):\n",
    "\n",
    "    # select device\n",
    "    if torch.cuda.is_available():\n",
    "        device = torch.device(\"cuda\")\n",
    "    else:\n",
    "        device = torch.device(\"cpu\")\n",
    "        \n",
    "    # Validation\n",
    "    net.eval() # Evaluation mode (e.g. disable dropout)\n",
    "    with torch.no_grad(): # No need to track the gradients\n",
    "        batch_len = np.zeros(len(dataloader))\n",
    "        batch_loss = np.zeros(len(dataloader))\n",
    "        for i, sample_batch in enumerate(dataloader,0):\n",
    "            # Extract data and move tensors to the selected device\n",
    "            image_batch = sample_batch[0].to(device)\n",
    "            # Forward pass\n",
    "            out = net(image_batch)\n",
    "            \n",
    "            # Evaluate global loss\n",
    "            loss = loss_fn(out, image_batch)\n",
    "            \n",
    "            # save MSE loss and length of a batch\n",
    "            batch_len[i] = len(sample_batch[0])\n",
    "            batch_loss[i] = loss.item()\n",
    "    \n",
    "    # total MSE loss\n",
    "    val_loss = (batch_loss*batch_len).sum()/batch_len.sum()\n",
    "    return val_loss"
   ]
  },
  {
   "cell_type": "code",
   "execution_count": 7,
   "metadata": {
    "colab": {},
    "colab_type": "code",
    "id": "L8-BV7Spku8H"
   },
   "outputs": [],
   "source": [
    "def train_torchNN(model,  train_loader, val_loader, train_log=True, verbose=True, \n",
    "                  debug=False, return_model = False, **params):\n",
    "    \"\"\"\n",
    "    Trains a Pytorch model.\n",
    "    \n",
    "    Parameters\n",
    "    ----------\n",
    "    model: Pytorch nn.Module class \n",
    "        Must have forward method\n",
    "    train_loader: torch DataLoader\n",
    "        Loads the training set\n",
    "    val_loader: torch DataLoader\n",
    "        Loads the validation set\n",
    "    verbose: bool\n",
    "        If True prints updates of the training 10 times for each epoch\n",
    "    return_model: bool\n",
    "        If True returns the trained instance of the model \n",
    "    **params: dictionary \n",
    "        Must contain all the parameters needed by the model, the optimizer and the loss\n",
    "    \n",
    "    Returns\n",
    "    -------\n",
    "    net (if return_model): Pytorch nn.Module class\n",
    "        Trained instance of the model \n",
    "    train_loss_log (if train_log): list\n",
    "        Training loss for each epoch\n",
    "    val_loss_log (if train_log): list\n",
    "        Validation loss for each epoch\n",
    "    val_acc_log (if train_log): list\n",
    "        Validation accuracy for each epoch\n",
    "    \n",
    "    \"\"\"\n",
    "    model_keys = ['encoded_space_dim','dropout'] # parameters of the model\n",
    "    optim_keys = ['lr','weight_decay'] # parameters of the optimizer\n",
    "    model_params = {}\n",
    "    optim_params = {}\n",
    "    # reads out the params dictionary and fills the model and optim dictionaries\n",
    "    for k in params.keys():\n",
    "        if k in model_keys:\n",
    "            model_params[k] = params[k]\n",
    "        elif k in optim_keys:\n",
    "            optim_params[k] = params[k]\n",
    "    n_epochs = params['n_epochs']\n",
    "\n",
    "    # init method\n",
    "    net = model(**model_params)\n",
    "    # init optimizer\n",
    "    optimizer = optim.Adamax(net.parameters(), **optim_params)\n",
    "    # define mean square error loss \n",
    "    loss_fn = nn.MSELoss()\n",
    "    \n",
    "    # define contextual print functions activated by print flags\n",
    "    verbose_print = print if verbose else lambda *a, **k: None\n",
    "    verbose_print(\"Verbose: \", verbose)\n",
    "    dprint = print if debug else lambda *a, **k: None\n",
    "    dprint(\"Debug: \", debug)\n",
    "\n",
    "    # If cuda is available set the device to GPU\n",
    "    verbose_print(\"Using cuda: \", torch.cuda.is_available())\n",
    "    if torch.cuda.is_available():\n",
    "        device = torch.device(\"cuda\")\n",
    "    else:\n",
    "        device = torch.device(\"cpu\")\n",
    "    # Move all the network parameters to the selected device (if they are already on that device nothing happens)\n",
    "    net.to(device)\n",
    "    \n",
    "    n_batches = len(train_loader)\n",
    "    epoch_time = []\n",
    "    #Time for printing\n",
    "    training_start_time = time.time()\n",
    "    # lists with the history of the training\n",
    "    if (train_log == True):\n",
    "        train_loss_log = []\n",
    "        val_loss_log = []\n",
    "\n",
    "    #Loop for n_epochs\n",
    "    for epoch in range(n_epochs):\n",
    "\n",
    "        running_loss = 0.0\n",
    "        print_every = n_batches // 10 # frequency of printing\n",
    "        start_time = time.time()\n",
    "        total_train_loss = 0\n",
    "        batches_done = 0\n",
    "        net.train() # activate dropout\n",
    "        for i, data in enumerate(train_loader, 0):\n",
    "            batches_done += 1\n",
    "            optimizer.zero_grad()\n",
    "            # Extract data and move tensors to the selected device\n",
    "            image_batch = data[0].to(device)\n",
    "            # Forward pass\n",
    "            output = net(image_batch)\n",
    "            loss = loss_fn(output, image_batch)\n",
    "            dprint('loss: ', loss.item())\n",
    "            # Backward pass\n",
    "            loss.backward()\n",
    "            optimizer.step()\n",
    "\n",
    "            if i == 10 and debug:\n",
    "                with torch.no_grad():\n",
    "                    out = net(image_batch).cpu()\n",
    "                \n",
    "                \n",
    "                fig, ax = plt.subplots(ncols=2, nrows=1, figsize=(8,5))\n",
    "                ax[0].imshow(image_batch[0].cpu().squeeze().numpy(), cmap='gist_gray')\n",
    "                ax[0].set_title(\"Original image\")\n",
    "                ax[1].imshow(out[0].squeeze().numpy(), cmap='gist_gray')\n",
    "                ax[1].set_title(\"Reconstructed image\")\n",
    "\n",
    "            #Print statistics\n",
    "            running_loss += loss.item() \n",
    "            total_train_loss += loss.item()\n",
    "            #Print every 10th batch of an epoch\n",
    "            if ((i+1) % (print_every) == 0) or (i == n_batches - 1):\n",
    "                verbose_print('\\r'+\"Epoch {}, {:d}% \\t Train loss: {:.4f} took: {:.2f}s \".format(\n",
    "                        epoch+1, int(100 * (i+1) / n_batches), running_loss / batches_done,\n",
    "                        time.time() - start_time), end=' ')\n",
    "                \n",
    "        epoch_time.append(time.time() - start_time)\n",
    "        if (train_log == True):\n",
    "            train_loss_log.append(total_train_loss/len(train_loader))\n",
    "        \n",
    "        \n",
    "        #At the end of the epoch, do a pass on the validation set\n",
    "        val_loss = test_epoch(net, dataloader=val_loader, loss_fn=loss_fn, optimizer=optimizer) \n",
    "        if (train_log == True):\n",
    "            val_loss_log.append(val_loss)\n",
    "            verbose_print(\"Val. loss: {:.4f}\".format(val_loss ))\n",
    "\n",
    "    verbose_print(\"Training finished, took {:.2f}s\".format(time.time() - training_start_time))\n",
    "    if train_log:\n",
    "        if return_model:\n",
    "            return net, train_loss_log, val_loss_log#, val_acc_log\n",
    "        else:\n",
    "            return train_loss_log, val_loss_log#, val_acc_log  #used during cross validation"
   ]
  },
  {
   "cell_type": "markdown",
   "metadata": {},
   "source": [
    "## Import data and split them"
   ]
  },
  {
   "cell_type": "code",
   "execution_count": 8,
   "metadata": {},
   "outputs": [],
   "source": [
    "#%% Define paths\n",
    "\n",
    "data_root_dir = '../datasets'\n",
    "\n",
    "\n",
    "#%% Create dataset\n",
    "\n",
    "train_transform = transforms.Compose([\n",
    "    transforms.ToTensor(),\n",
    "])\n",
    "\n",
    "test_transform = transforms.Compose([\n",
    "    transforms.ToTensor(),\n",
    "])\n",
    "\n",
    "training_dataset = MNIST(data_root_dir, train=True,  download=False, transform=train_transform)\n",
    "test_dataset  = MNIST(data_root_dir, train=False, download=False, transform=test_transform)"
   ]
  },
  {
   "cell_type": "code",
   "execution_count": 105,
   "metadata": {},
   "outputs": [],
   "source": [
    "train_batch_size = 512\n",
    "val_batch_size = 512\n",
    "test_batch_size = 512\n",
    "\n",
    "val_perc = 0.2\n",
    "m = len(training_dataset)\n",
    "train_len = int(m*(1-val_perc))\n",
    "\n",
    "train_dataset = TensorDataset((training_dataset.data[:train_len]/255.).view(-1,1,28,28).float())\n",
    "val_dataset = TensorDataset((training_dataset.data[train_len:]/255.).view(-1,1,28,28).float())\n",
    "\n",
    "# create DataLoaders to load batches\n",
    "train_loader = DataLoader(train_dataset, train_batch_size, shuffle=True, num_workers = 2, drop_last=True)\n",
    "val_loader = DataLoader(val_dataset, val_batch_size,  num_workers = 2)\n",
    "test_loader = DataLoader(test_dataset, test_batch_size, num_workers = 2)"
   ]
  },
  {
   "cell_type": "markdown",
   "metadata": {},
   "source": [
    "## Single training"
   ]
  },
  {
   "cell_type": "code",
   "execution_count": 10,
   "metadata": {
    "colab": {},
    "colab_type": "code",
    "id": "kXIKKRFfpzxR"
   },
   "outputs": [],
   "source": [
    "# example of parameters dictionary\n",
    "net_dict = {'encoded_space_dim' : 4,\n",
    "            'dropout' : 0.2,\n",
    "            'lr' : 0.01,\n",
    "            'n_epochs' : 1, #10\n",
    "            'weight_decay' : 1e-5}"
   ]
  },
  {
   "cell_type": "code",
   "execution_count": null,
   "metadata": {},
   "outputs": [],
   "source": [
    "results = train_torchNN(Autoencoder, train_loader, val_loader, train_log=True, verbose=True, \n",
    "                           return_model=True,  **net_dict)\n",
    "net, train_loss_log, val_loss_log = results\n",
    "torch.save(net.state_dict(), 'net_params.pth')"
   ]
  },
  {
   "cell_type": "code",
   "execution_count": null,
   "metadata": {
    "colab": {
     "base_uri": "https://localhost:8080/",
     "height": 284
    },
    "colab_type": "code",
    "id": "aPFfRex6sSnQ",
    "outputId": "477088b4-0693-481e-c710-42e44729433e"
   },
   "outputs": [],
   "source": [
    "epochs = np.arange(len(train_loss_log))+1\n",
    "plt.plot(epochs, train_loss_log, label = 'train')\n",
    "plt.plot(epochs, val_loss_log, label = 'validation')\n",
    "plt.xlabel('Number of epochs', fontsize=16)\n",
    "plt.ylabel('MSE loss', fontsize=16)\n",
    "plt.legend(fontsize=13)\n",
    "plt.show()"
   ]
  },
  {
   "cell_type": "markdown",
   "metadata": {},
   "source": [
    "### Sanity check"
   ]
  },
  {
   "cell_type": "code",
   "execution_count": 12,
   "metadata": {},
   "outputs": [],
   "source": [
    "def show_results(net, test_dataset, n_samples=10):\n",
    "    x = [test_dataset[i][0] for i in range(n_samples)]\n",
    "    x = torch.cat(x).view(-1,1,28,28)\n",
    "    with torch.no_grad():\n",
    "        out = net(x)\n",
    "    \n",
    "    for i in range(n_samples):\n",
    "        fig, ax = plt.subplots(ncols=2, nrows=1, figsize=(8,5))\n",
    "        ax[0].imshow(x[i].squeeze().numpy(), cmap='gist_gray')\n",
    "        ax[0].set_title(\"Original image\")\n",
    "        ax[1].imshow(out[i].squeeze().numpy(), cmap='gist_gray')\n",
    "        ax[1].set_title(\"Reconstructed image\")"
   ]
  },
  {
   "cell_type": "code",
   "execution_count": null,
   "metadata": {},
   "outputs": [],
   "source": [
    "net.to('cpu')\n",
    "#net = Autoencoder(encoded_space_dim=2, dropout=0) # not trained\n",
    "show_results(net, test_dataset, n_samples=10)"
   ]
  },
  {
   "cell_type": "markdown",
   "metadata": {},
   "source": [
    "## Sampling parameters for random search"
   ]
  },
  {
   "cell_type": "code",
   "execution_count": 13,
   "metadata": {
    "colab": {},
    "colab_type": "code",
    "id": "nTpkgtnRt2uw"
   },
   "outputs": [],
   "source": [
    "class prior_distr():\n",
    "    def __init__(self, discrete, var_type, distribution, **kwargs):\n",
    "        self.discrete = discrete\n",
    "        self.type = var_type\n",
    "        if discrete:\n",
    "            if var_type == 'int':\n",
    "                if distribution == 'exp':\n",
    "                    self.distr = distribution\n",
    "                    self.N_min = kwargs['N_min']\n",
    "                    self.N_max = kwargs['N_max']\n",
    "                    self.alpha = kwargs['alpha']\n",
    "                    self.elements = np.arange(self.N_min,self.N_max+1)\n",
    "                elif distribution == 'uniform':\n",
    "                    self.distr = distribution\n",
    "                    self.N_min = kwargs['N_min']\n",
    "                    self.N_max = kwargs['N_max']\n",
    "                    self.elements = np.arange(self.N_min,self.N_max+1)\n",
    "                    self.probabilities = np.full(len(self.elements), 1/len(self.elements))\n",
    "                elif distribution == 'custom':\n",
    "                    self.distr = distribution\n",
    "                    self.elements = kwargs['elements']\n",
    "                    if (np.abs(kwargs['p'].sum()-1) < 1e-4):\n",
    "                        self.probabilities = kwargs['p']\n",
    "                    else:\n",
    "                        raise Exception ('Total probability must be equal to 1.')\n",
    "                else:\n",
    "                    raise Exception('Variable \\'distribution\\' must be \\'exp\\', \\'uniform\\' or \\'custom\\'.')\n",
    "            elif var_type == 'str':\n",
    "                self.elements = kwargs['elements']\n",
    "                self.distr = distribution\n",
    "                if distribution == 'uniform':\n",
    "                    self.probabilities = np.full(len(self.elements), 1/len(self.elements))\n",
    "                elif distribution == 'custom':\n",
    "                    if (np.abs(kwargs['p'].sum()-1) < 1e-4):\n",
    "                        self.probabilities = kwargs['p']\n",
    "                    else:\n",
    "                        raise Exception ('Total probability must be equal to 1.')\n",
    "                else:\n",
    "                    raise Exception('Variable \\'distribution\\' must be \\'uniform\\' or \\'custom\\'.')\n",
    "            else:\n",
    "                raise Exception('Type must be \\'int\\' or \\'str\\'.')\n",
    "        else:\n",
    "            # continuous case\n",
    "            if var_type == 'float':\n",
    "                if distribution == 'uniform':\n",
    "                    self.distr = distribution\n",
    "                    self.x_min = kwargs['x_min']\n",
    "                    self.x_max = kwargs['x_max']\n",
    "                elif distribution == 'log':\n",
    "                    self.distr = distribution\n",
    "                    self.x_min = kwargs['x_min']\n",
    "                    self.x_max = kwargs['x_max']\n",
    "                else:\n",
    "                    raise Exception('Distribution must be \\'uniform\\' or \\'log\\'.')\n",
    "            else:\n",
    "                raise Exception('Continuous type must be \\'float\\'.')\n",
    "        \n",
    "    def sample(self, n_samples):\n",
    "        if self.discrete == True:\n",
    "            def sample_from_discrete_distr(n_samples, p_cum):\n",
    "                u = np.random.rand(n_samples)\n",
    "                mask = np.tile(p_cum[:,np.newaxis], (1,len(u))) > u\n",
    "                samples = self.elements[np.argmax(mask, axis=0)]\n",
    "                return samples\n",
    "\n",
    "            if (self.type == 'int') and (self.distr == 'exp'): # only case in which self.probabilities is not defined\n",
    "                def exp_distr(n):\n",
    "                    exp_of_Ns = np.exp(-self.alpha*self.elements)\n",
    "                    norm_factor = exp_of_Ns.sum() # 1/(e^alpha - 1)\n",
    "                    p_of_n = np.exp(-self.alpha*n)/norm_factor\n",
    "                    return p_of_n\n",
    "                #Ns = self.elements\n",
    "                self.probabilities = exp_distr(self.elements) # compute prob of each element\n",
    "            p_cum = np.cumsum(self.probabilities)\n",
    "            return sample_from_discrete_distr(n_samples, p_cum)\n",
    "        else:\n",
    "            if self.distr == 'uniform':\n",
    "                samples = np.random.rand(n_samples)*(self.x_max - self.x_min) - self.x_min\n",
    "            else:\n",
    "                u = np.random.rand(n_samples)*(np.log(self.x_max)-np.log(self.x_min)) + np.log(self.x_min)\n",
    "                samples = np.exp(u)\n",
    "            return samples"
   ]
  },
  {
   "cell_type": "code",
   "execution_count": 14,
   "metadata": {
    "colab": {},
    "colab_type": "code",
    "id": "0l-MYNgLummy"
   },
   "outputs": [],
   "source": [
    "# spans different magnitude scales, use logaritmic distribution for invariance of scale\n",
    "lr_P_dict = dict(discrete=False,\n",
    "                var_type='float',\n",
    "                distribution='log',\n",
    "                x_min = 1e-3,\n",
    "                x_max = 1e-1)\n",
    "\n",
    "# weight_decay\n",
    "penalty_P_dict = dict(discrete=False,\n",
    "                    var_type='float',\n",
    "                    distribution='log',\n",
    "                    x_min = 1e-4,\n",
    "                    x_max = 1e-2)\n",
    "\n",
    "# acts on the number of neurons in a linear way, use uniform distribution\n",
    "dropout_P_dict = dict(discrete=False,\n",
    "                     var_type = 'float',\n",
    "                     distribution='uniform',\n",
    "                     x_min = 0,\n",
    "                     x_max = 0.25)\n",
    "\n",
    "# n_epochs should be of the order of 10, but I also want to try up to 50 \n",
    "n_epochs_P_dict = dict(discrete=True,\n",
    "                         var_type = 'int',\n",
    "                         distribution='custom',\n",
    "                         elements=np.array([10,20,30,40,50]),\n",
    "                         p = np.array([0.25, 0.25, 0.20, 0.20, 0.10]))"
   ]
  },
  {
   "cell_type": "code",
   "execution_count": 15,
   "metadata": {
    "colab": {},
    "colab_type": "code",
    "id": "XTq1mILCvEzx"
   },
   "outputs": [],
   "source": [
    "P_dict = dict(lr=lr_P_dict, \n",
    "              weight_decay=penalty_P_dict, \n",
    "              dropout=dropout_P_dict,\n",
    "              n_epochs=n_epochs_P_dict)"
   ]
  },
  {
   "cell_type": "code",
   "execution_count": 16,
   "metadata": {
    "colab": {},
    "colab_type": "code",
    "id": "KJ0UZGk7vOZs"
   },
   "outputs": [],
   "source": [
    "n_samples = 1 # just a demo"
   ]
  },
  {
   "cell_type": "code",
   "execution_count": 17,
   "metadata": {
    "colab": {},
    "colab_type": "code",
    "id": "HCJcyu8mvTeN"
   },
   "outputs": [],
   "source": [
    "params = {}\n",
    "for key in P_dict.keys():\n",
    "    P = prior_distr(**P_dict[key])\n",
    "    params[key] = P.sample(n_samples)"
   ]
  },
  {
   "cell_type": "code",
   "execution_count": 18,
   "metadata": {
    "colab": {},
    "colab_type": "code",
    "id": "oddTDiDFvbJa"
   },
   "outputs": [],
   "source": [
    "# now we make a list of dictionary instead of a dictionary of lists and we also add the last constant parameters\n",
    "list_of_dict = []\n",
    "for i in range(n_samples):\n",
    "    d = {'encoded_space_dim' : 4}\n",
    "    for key in params.keys():\n",
    "        d[key] = params[key][i]\n",
    "    list_of_dict.append(d)"
   ]
  },
  {
   "cell_type": "code",
   "execution_count": 19,
   "metadata": {
    "colab": {},
    "colab_type": "code",
    "id": "Lptv8QKCvr1S"
   },
   "outputs": [
    {
     "name": "stdout",
     "output_type": "stream",
     "text": [
      "Number of combinations:  1\n",
      "\n",
      "Parameters: \n",
      "===========================================================================\n",
      "encoded_space_dim \t 4\n",
      "lr \t \t 0.002823805289074982\n",
      "weight_decay \t 0.0013553847378807568\n",
      "dropout \t 0.0671707806214899\n",
      "n_epochs \t 40\n",
      "===========================================================================\n"
     ]
    }
   ],
   "source": [
    "print(\"Number of combinations: \", len(list_of_dict))\n",
    "\n",
    "flag = True #set to True to see all combinations\n",
    "if flag == True:\n",
    "    for params in list_of_dict:\n",
    "        print()\n",
    "        print_parameters(params)"
   ]
  },
  {
   "cell_type": "markdown",
   "metadata": {},
   "source": [
    "## Note\n",
    "The real training was done on Google Colab making use of the GPU given at disposal."
   ]
  },
  {
   "cell_type": "code",
   "execution_count": null,
   "metadata": {
    "colab": {
     "base_uri": "https://localhost:8080/",
     "height": 472
    },
    "colab_type": "code",
    "id": "NA-tsR6gwgOl",
    "outputId": "945415c6-23e0-472b-d3b3-dfe7ef11d03e"
   },
   "outputs": [],
   "source": [
    "%%time\n",
    "scoring, _ = GridSearch(Autoencoder, train_loader, val_loader, list_of_dict, verbose=True)"
   ]
  },
  {
   "cell_type": "markdown",
   "metadata": {},
   "source": [
    "# HP analysis"
   ]
  },
  {
   "cell_type": "code",
   "execution_count": 20,
   "metadata": {},
   "outputs": [],
   "source": [
    "checkpoint_scores = np.load('checkpoint/scores.npy')\n",
    "checkpoint_dict = list(np.load('checkpoint/dict.npy', allow_pickle=True))"
   ]
  },
  {
   "cell_type": "code",
   "execution_count": 23,
   "metadata": {},
   "outputs": [
    {
     "name": "stdout",
     "output_type": "stream",
     "text": [
      "Number of configuration evaluated:  174\n"
     ]
    }
   ],
   "source": [
    "n_configs = len(checkpoint_scores)\n",
    "print('Number of configuration evaluated: ', n_configs)"
   ]
  },
  {
   "cell_type": "markdown",
   "metadata": {},
   "source": [
    "### Best configuration"
   ]
  },
  {
   "cell_type": "code",
   "execution_count": 22,
   "metadata": {},
   "outputs": [
    {
     "name": "stdout",
     "output_type": "stream",
     "text": [
      "Parameters: \n",
      "===========================================================================\n",
      "encoded_space_dim \t 4\n",
      "lr \t \t 0.01359510084742712\n",
      "weight_decay \t 0.00010797152157531271\n",
      "dropout \t 0.021559902776276146\n",
      "n_epochs \t 40\n",
      "===========================================================================\n",
      "Loss: 0.0320 \n"
     ]
    }
   ],
   "source": [
    "scoring = np.array(checkpoint_scores)\n",
    "best = np.argmin(scoring)\n",
    "print_HP_score(checkpoint_dict[best],scoring[best])"
   ]
  },
  {
   "cell_type": "markdown",
   "metadata": {},
   "source": [
    "### Performance of different configurations\n",
    "\n",
    "Look at dropout, learning rate, weight decay and number of epochs vs loss."
   ]
  },
  {
   "cell_type": "code",
   "execution_count": 25,
   "metadata": {},
   "outputs": [],
   "source": [
    "learning_rates = []\n",
    "weights = []\n",
    "dropouts = []\n",
    "epochs = []\n",
    "for i in range(n_configs):\n",
    "    learning_rates.append(checkpoint_dict[i]['lr'])\n",
    "    weights.append(checkpoint_dict[i]['weight_decay'])    \n",
    "    dropouts.append(checkpoint_dict[i]['dropout'])\n",
    "    epochs.append(checkpoint_dict[i]['n_epochs'])    \n",
    "learning_rates = np.array(learning_rates)\n",
    "weights = np.array(weights)\n",
    "dropouts = np.array(dropouts)\n",
    "epochs = np.array(epochs)"
   ]
  },
  {
   "cell_type": "code",
   "execution_count": 72,
   "metadata": {},
   "outputs": [
    {
     "data": {
      "image/png": "[encoded data removed]",
      "text/plain": [
       "<Figure size 576x432 with 1 Axes>"
      ]
     },
     "metadata": {
      "needs_background": "light"
     },
     "output_type": "display_data"
    }
   ],
   "source": [
    "plt.figure(figsize=(8,6))\n",
    "plt.plot(learning_rates, scoring, '.')\n",
    "plt.xscale('log')\n",
    "plt.xlabel('Learning rate (logscale)', fontsize=16)\n",
    "plt.ylabel('MSE loss', fontsize=16)\n",
    "plt.show()"
   ]
  },
  {
   "cell_type": "code",
   "execution_count": 74,
   "metadata": {},
   "outputs": [
    {
     "data": {
      "image/png": "[encoded data removed]",
      "text/plain": [
       "<Figure size 576x432 with 1 Axes>"
      ]
     },
     "metadata": {
      "needs_background": "light"
     },
     "output_type": "display_data"
    }
   ],
   "source": [
    "plt.figure(figsize=(8,6))\n",
    "plt.plot(weights, scoring, '.')\n",
    "plt.xscale('log')\n",
    "plt.xlabel('L2 penalty (logscale)', fontsize=16)\n",
    "plt.ylabel('MSE loss', fontsize=16)\n",
    "plt.show()"
   ]
  },
  {
   "cell_type": "code",
   "execution_count": 75,
   "metadata": {},
   "outputs": [
    {
     "data": {
      "image/png": "[encoded data removed]",
      "text/plain": [
       "<Figure size 576x432 with 1 Axes>"
      ]
     },
     "metadata": {
      "needs_background": "light"
     },
     "output_type": "display_data"
    }
   ],
   "source": [
    "plt.figure(figsize=(8,6))\n",
    "plt.plot(dropouts, scoring, '.')\n",
    "plt.xlabel('Dropout', fontsize=16)\n",
    "plt.ylabel('MSE loss', fontsize=16)\n",
    "plt.show()"
   ]
  },
  {
   "cell_type": "code",
   "execution_count": 76,
   "metadata": {},
   "outputs": [
    {
     "data": {
      "image/png": "[encoded data removed]",
      "text/plain": [
       "<Figure size 576x432 with 1 Axes>"
      ]
     },
     "metadata": {
      "needs_background": "light"
     },
     "output_type": "display_data"
    }
   ],
   "source": [
    "plt.figure(figsize=(8,6))\n",
    "plt.plot(epochs, scoring, '.')\n",
    "plt.xlabel('Epochs of training', fontsize=16)\n",
    "plt.ylabel('MSE loss', fontsize=16)\n",
    "plt.show()"
   ]
  },
  {
   "cell_type": "markdown",
   "metadata": {},
   "source": [
    "As a general observation only the L2 penalty term seems to affect clearly the performance, with a monotonic increase in the loss as the penalty term increases. Therfore it's not a case that the best model has the almost the minimum penalty (around $10^{-4}$)."
   ]
  },
  {
   "cell_type": "code",
   "execution_count": 77,
   "metadata": {},
   "outputs": [],
   "source": [
    "np.save('best_model_dict', checkpoint_dict[best])"
   ]
  },
  {
   "cell_type": "markdown",
   "metadata": {},
   "source": [
    "# Compression-performance tradeoff in autoencoders"
   ]
  },
  {
   "cell_type": "code",
   "execution_count": 83,
   "metadata": {},
   "outputs": [],
   "source": [
    "encoded_space_dims = [1,2,4,8,16]\n",
    "best_model_dict = np.load('best_model_dict.npy', allow_pickle=True).item()"
   ]
  },
  {
   "cell_type": "markdown",
   "metadata": {},
   "source": [
    "### Training on the uncorrupted training set\n",
    "Input: uncorrupted <br>\n",
    "Target: uncorrupted"
   ]
  },
  {
   "cell_type": "code",
   "execution_count": null,
   "metadata": {},
   "outputs": [],
   "source": [
    "for encoded_space_dim in encoded_space_dims:\n",
    "    best_model_dict['encoded_space_dim'] = encoded_space_dim\n",
    "    results = train_torchNN(Autoencoder, train_loader, val_loader, train_log=True, verbose=True, \n",
    "                           return_model=True,  **net_dict)\n",
    "    net, train_loss_log, val_loss_log = results\n",
    "    torch.save(net.state_dict(), 'net_params_'+str(encoded_space_dim)+'.pth')"
   ]
  },
  {
   "cell_type": "markdown",
   "metadata": {},
   "source": [
    "# Optional part: denoising autoencoders"
   ]
  },
  {
   "cell_type": "markdown",
   "metadata": {},
   "source": [
    "### Training on the training set with gaussian noise\n",
    "**Input:** added gaussian noise <br>\n",
    "**Target:**  uncorrupted\n",
    "\n",
    "**Note:** for simplicity I used a single intermediate noise intensity in training."
   ]
  },
  {
   "cell_type": "markdown",
   "metadata": {},
   "source": [
    "First of all I need to define a new Dataset class where the input is noisy but the output is not."
   ]
  },
  {
   "cell_type": "code",
   "execution_count": 96,
   "metadata": {},
   "outputs": [],
   "source": [
    "class NoisyDataset(Dataset):\n",
    "    def __init__(self, dataset1, dataset2):\n",
    "        \n",
    "        assert len(dataset1) == len(dataset2), \"Datasets should have the same length\"\n",
    "        data = []\n",
    "        target = []\n",
    "        labels = []\n",
    "        s = dataset1[0][0].shape\n",
    "        for i in range(len(dataset1)):\n",
    "            data.append(dataset1[i][0])\n",
    "            target.append(dataset2[i][0])\n",
    "            #labels.append(dataset1[i][1])\n",
    "        self.data = torch.cat(data).view((-1,)+s)\n",
    "        self.target = torch.cat(target).view((-1,)+s)\n",
    "        #self.labels = torch.LongTensor(labels)\n",
    "        \n",
    "    def __len__(self):\n",
    "        return len(self.data)\n",
    "    \n",
    "    def __getitem__(self, index):\n",
    "        return (self.data[index], self.target[index])#, self.labels[index])"
   ]
  },
  {
   "cell_type": "markdown",
   "metadata": {},
   "source": [
    "To use it I import again the MNIST training set and apply to it a transform in order to get the noisy dataset, then merge it together with the uncorrupted one that will serve as a target during training and evaluation."
   ]
  },
  {
   "cell_type": "code",
   "execution_count": 97,
   "metadata": {},
   "outputs": [],
   "source": [
    "sigma = 0.25\n",
    "gaussian_transform = transforms.Compose([\n",
    "    transforms.ToTensor(),\n",
    "    transforms.Lambda(lambda x: (x+np.random.normal(scale=sigma,size=x.shape)).float()),\n",
    "    ])\n",
    "\n",
    "# load dataset and occlude it at given scale\n",
    "gaussian_training_set = MNIST(data_root_dir, train=True, download=False, transform=gaussian_transform)"
   ]
  },
  {
   "cell_type": "markdown",
   "metadata": {},
   "source": [
    "Now we split it in training and validation"
   ]
  },
  {
   "cell_type": "code",
   "execution_count": 119,
   "metadata": {},
   "outputs": [],
   "source": [
    "train_batch_size = 512\n",
    "val_batch_size = 512\n",
    "\n",
    "val_perc = 0.2\n",
    "m = len(training_dataset)\n",
    "train_len = int(m*(1-val_perc))\n",
    "\n",
    "gaussian_train_dataset = TensorDataset((gaussian_training_set.data[:train_len]/255.).view(-1,1,28,28).float())\n",
    "gaussian_val_dataset = TensorDataset((gaussian_training_set.data[train_len:]/255.).view(-1,1,28,28).float())"
   ]
  },
  {
   "cell_type": "code",
   "execution_count": 120,
   "metadata": {},
   "outputs": [],
   "source": [
    "# merge it with the original dataset that will be used as target\n",
    "gaussian_train_set = NoisyDataset(gaussian_train_dataset, train_dataset)\n",
    "gaussian_val_set = NoisyDataset(gaussian_val_dataset, val_dataset)\n",
    "\n",
    "# create DataLoaders to load batches\n",
    "gaussian_train_loader = DataLoader(gaussian_train_set, train_batch_size, shuffle=True, num_workers = 2, drop_last=True)\n",
    "gaussian_val_loader = DataLoader(gaussian_val_set, val_batch_size,  num_workers = 2)"
   ]
  },
  {
   "cell_type": "markdown",
   "metadata": {},
   "source": [
    "Finally we have to modify the training and test functions to take into account that the target is different from the input."
   ]
  },
  {
   "cell_type": "code",
   "execution_count": 109,
   "metadata": {},
   "outputs": [],
   "source": [
    "def train_denoisingAE(model,  train_loader, val_loader, train_log=True, verbose=True, \n",
    "                  return_model = False, **params):\n",
    "    \"\"\"\n",
    "    Trains a Pytorch model.\n",
    "    \n",
    "    Parameters\n",
    "    ----------\n",
    "    model: Pytorch nn.Module class \n",
    "        Must have forward method\n",
    "    train_loader: torch DataLoader\n",
    "        Loads the training set\n",
    "    val_loader: torch DataLoader\n",
    "        Loads the validation set\n",
    "    verbose: bool\n",
    "        If True prints updates of the training 10 times for each epoch\n",
    "    return_model: bool\n",
    "        If True returns the trained instance of the model \n",
    "    **params: dictionary \n",
    "        Must contain all the parameters needed by the model, the optimizer and the loss\n",
    "    \n",
    "    Returns\n",
    "    -------\n",
    "    net (if return_model): Pytorch nn.Module class\n",
    "        Trained instance of the model \n",
    "    train_loss_log (if train_log): list\n",
    "        Training loss for each epoch\n",
    "    val_loss_log (if train_log): list\n",
    "        Validation loss for each epoch\n",
    "    val_acc_log (if train_log): list\n",
    "        Validation accuracy for each epoch\n",
    "    \n",
    "    \"\"\"\n",
    "    model_keys = ['encoded_space_dim','dropout'] # parameters of the model\n",
    "    optim_keys = ['lr','weight_decay'] # parameters of the optimizer\n",
    "    model_params = {}\n",
    "    optim_params = {}\n",
    "    # reads out the params dictionary and fills the model and optim dictionaries\n",
    "    for k in params.keys():\n",
    "        if k in model_keys:\n",
    "            model_params[k] = params[k]\n",
    "        elif k in optim_keys:\n",
    "            optim_params[k] = params[k]\n",
    "    n_epochs = params['n_epochs']\n",
    "\n",
    "    # init method\n",
    "    net = model(**model_params)\n",
    "    # init optimizer\n",
    "    optimizer = optim.Adamax(net.parameters(), **optim_params)\n",
    "    # define mean square error loss \n",
    "    loss_fn = nn.MSELoss()\n",
    "    \n",
    "    # define contextual print functions activated by print flags\n",
    "    verbose_print = print if verbose else lambda *a, **k: None\n",
    "    verbose_print(\"Verbose: \", verbose)\n",
    "\n",
    "    # If cuda is available set the device to GPU\n",
    "    verbose_print(\"Using cuda: \", torch.cuda.is_available())\n",
    "    if torch.cuda.is_available():\n",
    "        device = torch.device(\"cuda\")\n",
    "    else:\n",
    "        device = torch.device(\"cpu\")\n",
    "    # Move all the network parameters to the selected device (if they are already on that device nothing happens)\n",
    "    net.to(device)\n",
    "    \n",
    "    n_batches = len(train_loader)\n",
    "    epoch_time = []\n",
    "    #Time for printing\n",
    "    training_start_time = time.time()\n",
    "    # lists with the history of the training\n",
    "    if (train_log == True):\n",
    "        train_loss_log = []\n",
    "        val_loss_log = []\n",
    "\n",
    "    #Loop for n_epochs\n",
    "    for epoch in range(n_epochs):\n",
    "\n",
    "        running_loss = 0.0\n",
    "        print_every = n_batches // 10 # frequency of printing\n",
    "        start_time = time.time()\n",
    "        total_train_loss = 0\n",
    "        batches_done = 0\n",
    "        net.train() # activate dropout\n",
    "        for i, sample_batch in enumerate(train_loader, 0):\n",
    "            batches_done += 1\n",
    "            optimizer.zero_grad()\n",
    "            # Extract data and move tensors to the selected device\n",
    "            data = sample_batch[0].to(device)\n",
    "            target = sample_batch[1].to(device)\n",
    "            \n",
    "            # Forward pass\n",
    "            output = net(data)\n",
    "            loss = loss_fn(output, target)\n",
    "            # Backward pass\n",
    "            loss.backward()\n",
    "            optimizer.step()\n",
    "\n",
    "            #Print statistics\n",
    "            running_loss += loss.item() \n",
    "            total_train_loss += loss.item()\n",
    "            #Print every 10th batch of an epoch\n",
    "            if ((i+1) % (print_every) == 0) or (i == n_batches - 1):\n",
    "                verbose_print('\\r'+\"Epoch {}, {:d}% \\t Train loss: {:.4f} took: {:.2f}s \".format(\n",
    "                        epoch+1, int(100 * (i+1) / n_batches), running_loss / batches_done,\n",
    "                        time.time() - start_time), end=' ')\n",
    "                \n",
    "        epoch_time.append(time.time() - start_time)\n",
    "        if (train_log == True):\n",
    "            train_loss_log.append(total_train_loss/len(train_loader))\n",
    "        \n",
    "        \n",
    "        #At the end of the epoch, do a pass on the validation set\n",
    "        val_loss = test_denoisingAE(net, dataloader=val_loader, loss_fn=loss_fn, optimizer=optimizer) \n",
    "        if (train_log == True):\n",
    "            val_loss_log.append(val_loss)\n",
    "            verbose_print(\"Val. loss: {:.4f}\".format(val_loss ))\n",
    "\n",
    "    verbose_print(\"Training finished, took {:.2f}s\".format(time.time() - training_start_time))\n",
    "    if train_log:\n",
    "        if return_model:\n",
    "            return net, train_loss_log, val_loss_log#, val_acc_log\n",
    "        else:\n",
    "            return train_loss_log, val_loss_log#, val_acc_log  #used during cross validation"
   ]
  },
  {
   "cell_type": "code",
   "execution_count": 110,
   "metadata": {},
   "outputs": [],
   "source": [
    "### Testing function\n",
    "def test_denoisingAE(net, dataloader, loss_fn, optimizer):\n",
    "\n",
    "    # select device\n",
    "    if torch.cuda.is_available():\n",
    "        device = torch.device(\"cuda\")\n",
    "    else:\n",
    "        device = torch.device(\"cpu\")\n",
    "        \n",
    "    # Validation\n",
    "    net.eval() # Evaluation mode (e.g. disable dropout)\n",
    "    with torch.no_grad(): # No need to track the gradients\n",
    "        batch_len = np.zeros(len(dataloader))\n",
    "        batch_loss = np.zeros(len(dataloader))\n",
    "        for i, sample_batch in enumerate(dataloader,0):\n",
    "            # Extract data and move tensors to the selected device\n",
    "            data = sample_batch[0].to(device)\n",
    "            target = sample_batch[1].to(device)\n",
    "            # Forward pass\n",
    "            out = net(data)\n",
    "            \n",
    "            # Evaluate global loss\n",
    "            loss = loss_fn(out, target)\n",
    "            \n",
    "            # save MSE loss and length of a batch\n",
    "            batch_len[i] = len(sample_batch[0])\n",
    "            batch_loss[i] = loss.item()\n",
    "    \n",
    "    # total MSE loss\n",
    "    val_loss = (batch_loss*batch_len).sum()/batch_len.sum()\n",
    "    return val_loss"
   ]
  },
  {
   "cell_type": "code",
   "execution_count": null,
   "metadata": {},
   "outputs": [],
   "source": [
    "for encoded_space_dim in encoded_space_dims:\n",
    "    best_model_dict['encoded_space_dim'] = encoded_space_dim\n",
    "    results = train_denoisingAE(Autoencoder, gaussian_train_loader, gaussian_val_loader, train_log=True, verbose=True, \n",
    "                           return_model=True,  **best_model_dict)\n",
    "    net, train_loss_log, val_loss_log = results\n",
    "    torch.save(net.state_dict(), 'gaussian_net_params_'+str(encoded_space_dim)+'.pth')"
   ]
  },
  {
   "cell_type": "markdown",
   "metadata": {},
   "source": [
    "### Training on the training set with occlusion\n",
    "**Input:** occluded <br>\n",
    "**Target:**  uncorrupted\n",
    "\n",
    "**Note:** for simplicity I used a single intermediate scale of occlusion in training."
   ]
  },
  {
   "cell_type": "code",
   "execution_count": 116,
   "metadata": {},
   "outputs": [],
   "source": [
    "scale = 0.25\n",
    "\n",
    "occluded_transform = transforms.Compose([\n",
    "        transforms.ToTensor(),\n",
    "        transforms.RadomErasing(p=1, scale=(scale , scale), ratio=(1,1), value=np.random.rand()),\n",
    "    ])\n",
    "# load dataset and occlude it at given scale\n",
    "occluded_training_set = MNIST(data_root_dir, train=True, download=False, transform=occluded_transform)"
   ]
  },
  {
   "cell_type": "code",
   "execution_count": 117,
   "metadata": {},
   "outputs": [],
   "source": [
    "train_batch_size = 512\n",
    "val_batch_size = 512\n",
    "\n",
    "val_perc = 0.2\n",
    "m = len(training_dataset)\n",
    "train_len = int(m*(1-val_perc))\n",
    "\n",
    "occluded_train_dataset = TensorDataset((occluded_training_set.data[:train_len]/255.).view(-1,1,28,28).float())\n",
    "occluded_val_dataset = TensorDataset((occluded_training_set.data[train_len:]/255.).view(-1,1,28,28).float())"
   ]
  },
  {
   "cell_type": "code",
   "execution_count": 118,
   "metadata": {},
   "outputs": [],
   "source": [
    "# merge it with the original dataset that will be used as target\n",
    "occluded_train_set = NoisyDataset(occluded_train_dataset, train_dataset)\n",
    "occluded_val_set = NoisyDataset(occluded_val_dataset, val_dataset)\n",
    "\n",
    "# create DataLoaders to load batches\n",
    "occluded_train_loader = DataLoader(occluded_train_set, train_batch_size, shuffle=True, num_workers = 2, drop_last=True)\n",
    "occluded_val_loader = DataLoader(occluded_val_set, val_batch_size,  num_workers = 2)"
   ]
  },
  {
   "cell_type": "code",
   "execution_count": null,
   "metadata": {},
   "outputs": [],
   "source": [
    "for encoded_space_dim in encoded_space_dims:\n",
    "    best_model_dict['encoded_space_dim'] = encoded_space_dim\n",
    "    results = train_denoisingAE(Autoencoder, occluded_train_loader, occluded_val_loader, train_log=True, verbose=True, \n",
    "                           return_model=True,  **best_model_dict)\n",
    "    net, train_loss_log, val_loss_log = results\n",
    "    torch.save(net.state_dict(), 'occluded_net_params_'+str(encoded_space_dim)+'.pth')"
   ]
  }
 ],
 "metadata": {
  "accelerator": "GPU",
  "colab": {
   "collapsed_sections": [],
   "name": "Nicola_Dainese_Ex4_NN.ipynb",
   "provenance": []
  },
  "kernelspec": {
   "display_name": "torch",
   "language": "python",
   "name": "torch"
  },
  "language_info": {
   "codemirror_mode": {
    "name": "ipython",
    "version": 3
   },
   "file_extension": ".py",
   "mimetype": "text/x-python",
   "name": "python",
   "nbconvert_exporter": "python",
   "pygments_lexer": "ipython3",
   "version": "3.7.6"
  }
 },
 "nbformat": 4,
 "nbformat_minor": 1
}
