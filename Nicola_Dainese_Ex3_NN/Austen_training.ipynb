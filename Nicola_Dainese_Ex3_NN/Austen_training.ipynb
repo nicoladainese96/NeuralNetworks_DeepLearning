{
 "cells": [
  {
   "cell_type": "markdown",
   "metadata": {},
   "source": [
    "# Preprocessing of some books by Jane Austen"
   ]
  },
  {
   "cell_type": "code",
   "execution_count": 1,
   "metadata": {},
   "outputs": [],
   "source": [
    "import numpy as np"
   ]
  },
  {
   "cell_type": "code",
   "execution_count": 2,
   "metadata": {},
   "outputs": [],
   "source": [
    "import preprocessing as prep"
   ]
  },
  {
   "cell_type": "code",
   "execution_count": 3,
   "metadata": {},
   "outputs": [],
   "source": [
    "import torch\n",
    "from torch import nn\n",
    "import torch.nn.functional as F\n",
    "from torch.utils.data import Dataset, DataLoader, SubsetRandomSampler, random_split\n",
    "from torch.nn.utils.rnn import pad_sequence, pack_padded_sequence, pad_packed_sequence"
   ]
  },
  {
   "cell_type": "code",
   "execution_count": 21,
   "metadata": {},
   "outputs": [
    {
     "name": "stdout",
     "output_type": "stream",
     "text": [
      "['mansfield_park.txt', 'sense_sensibility.txt', 'lady_susan.txt', 'persuasion.txt', 'pride_prejudice.txt', 'northanger_abbey.txt']\n",
      "\n",
      "\n",
      "====================================================================================================\n",
      "Preprocessing Books/mansfield_park.txt \n",
      "\n",
      "\n",
      "\n",
      "\n",
      "====================================================================================================\n",
      "Preprocessing Books/sense_sensibility.txt \n",
      "\n",
      "\n",
      "\n",
      "\n",
      "====================================================================================================\n",
      "Preprocessing Books/lady_susan.txt \n",
      "\n",
      "\n",
      "\n",
      "\n",
      "====================================================================================================\n",
      "Preprocessing Books/persuasion.txt \n",
      "\n",
      "\n",
      "\n",
      "\n",
      "====================================================================================================\n",
      "Preprocessing (ad hoc) Books/pride_prejudice.txt\n",
      "\n",
      "\n",
      "====================================================================================================\n",
      "Preprocessing Books/northanger_abbey.txt \n",
      "\n",
      "\n"
     ]
    }
   ],
   "source": [
    "dataset = prep.austen_preprocessing(debug=False)\n",
    "# dataset is a dictionary\n",
    "#dataset.keys()\n",
    "\n",
    "# I saved it just once, since every time the numerical encoding changes\n",
    "#np.save(\"dataset\", dataset)"
   ]
  },
  {
   "cell_type": "code",
   "execution_count": 4,
   "metadata": {},
   "outputs": [
    {
     "name": "stdout",
     "output_type": "stream",
     "text": [
      "word2index size:  12811\n",
      "Encoded name:  10608\n",
      "Retrieved name:  bingley\n",
      "Number of sentences in the text:  21898\n"
     ]
    }
   ],
   "source": [
    "dataset = np.load(\"dataset.npy\", allow_pickle=True).item()\n",
    "\n",
    "word2index = dataset['word2index']\n",
    "index2word = dataset['index2word']\n",
    "num_sentences = dataset['num_sentences']\n",
    "print(\"word2index size: \", len(word2index))\n",
    "\n",
    "num_w = word2index['bingley']\n",
    "retrieved = index2word[num_w]\n",
    "print(\"Encoded name: \", num_w)\n",
    "print(\"Retrieved name: \", retrieved)\n",
    "\n",
    "print(\"Number of sentences in the text: \", len(num_sentences))"
   ]
  },
  {
   "cell_type": "code",
   "execution_count": 5,
   "metadata": {},
   "outputs": [],
   "source": [
    "class AustenDataset(Dataset):\n",
    "    \n",
    "    def __init__(self, filepath, transform=None):\n",
    "        \n",
    "        dataset = np.load(filepath, allow_pickle=True).item()\n",
    "        \n",
    "        self.word2index = dataset['word2index']\n",
    "        self.index2word = dataset['index2word']\n",
    "        self.num_sentences = dataset['num_sentences']\n",
    "        \n",
    "        self.transform = transform\n",
    "        \n",
    "        sorted_seq = sorted(self.num_sentences, key=lambda x: len(x), reverse=True)\n",
    "        # save original lengths of each sentence (subtract 1 for slicing in x and y)       \n",
    "        self.seq_len = [len(s) -1 for s in sorted_seq] \n",
    "        \n",
    "        enc_sentences = [torch.LongTensor(enc_s) for enc_s in sorted_seq]\n",
    "        \n",
    "        x = [s[:-1] for s in enc_sentences] # last word of each sentence doesn't have a label\n",
    "        y = [s[1:] for s in enc_sentences] # first word of each sentence doesn't have an x associated\n",
    "        \n",
    "        x_padded = pad_sequence(x, batch_first=True)\n",
    "        y_padded = pad_sequence(y, batch_first=True)\n",
    "        \n",
    "        seq_len = np.array(self.seq_len)\n",
    "        mask = (seq_len > 0)\n",
    "        \n",
    "        x_padded = x_padded[mask]\n",
    "        y_padded = y_padded[mask]\n",
    "        seq_len = torch.LongTensor(seq_len[mask])\n",
    "\n",
    "        self.x_padded = x_padded\n",
    "        self.y_padded = y_padded\n",
    "        self.seq_len = seq_len\n",
    "        self.vocab_len = len(self.word2index)\n",
    "          \n",
    "    def __len__(self):\n",
    "        return len(self.x_padded)\n",
    "        \n",
    "    def __getitem__(self, idx):\n",
    "        # Get text\n",
    "        x = self.x_padded[idx]\n",
    "        y = self.y_padded[idx]\n",
    "        length = self.seq_len[idx]\n",
    "        return (x, y, length)\n",
    "        "
   ]
  },
  {
   "cell_type": "code",
   "execution_count": 6,
   "metadata": {},
   "outputs": [
    {
     "name": "stdout",
     "output_type": "stream",
     "text": [
      "Number of batches in train set:  553\n"
     ]
    }
   ],
   "source": [
    "full_dataset = AustenDataset(\"dataset.npy\")\n",
    "\n",
    "training_size = int(0.9 * len(full_dataset))\n",
    "test_size = len(full_dataset) - training_size\n",
    "train_size = int(0.9 * training_size)\n",
    "val_size = training_size - train_size\n",
    "\n",
    "train_dataset, val_dataset, test_dataset = random_split(full_dataset, [train_size, val_size, test_size])\n",
    "\n",
    "train_sampler = SubsetRandomSampler(np.arange(train_size))\n",
    "val_sampler = SubsetRandomSampler(np.arange(val_size))\n",
    "test_sampler = SubsetRandomSampler(np.arange(test_size))\n",
    "\n",
    "train_loader = DataLoader(train_dataset, batch_size = 32, num_workers=4, drop_last=True, sampler = train_sampler)\n",
    "val_loader = DataLoader(val_dataset, batch_size = 128, num_workers=4, drop_last=False, sampler = val_sampler)\n",
    "test_loader = DataLoader(test_dataset, batch_size = 128, num_workers=4, drop_last=False, sampler = test_sampler)\n",
    "\n",
    "print(\"Number of batches in train set: \", len(train_loader))"
   ]
  },
  {
   "cell_type": "markdown",
   "metadata": {},
   "source": [
    "# Training"
   ]
  },
  {
   "cell_type": "code",
   "execution_count": 7,
   "metadata": {},
   "outputs": [],
   "source": [
    "class Network(nn.Module):\n",
    "    \n",
    "    def __init__(self, vocab_size, emb_dim, hidden_units, layers_num, dropout_prob=0, linear_size=512):\n",
    "        super().__init__()\n",
    "        # Define recurrent layer\n",
    "        self.embedding = nn.Embedding(vocab_size, emb_dim, padding_idx=0)\n",
    "        \n",
    "        self.rnn = nn.LSTM(input_size=emb_dim, \n",
    "                           hidden_size=hidden_units,\n",
    "                           num_layers=layers_num,\n",
    "                           dropout=dropout_prob,\n",
    "                           batch_first=True)\n",
    "        \n",
    "        self.l1 = nn.Linear(hidden_units,linear_size)\n",
    "        self.out = nn.Linear(linear_size,vocab_size) # leave out the '<PAD>' label \n",
    "        \n",
    "    def forward(self, x, seq_lengths, state=None):\n",
    "\n",
    "        # Embedding of x\n",
    "        x = self.embedding(x) \n",
    "        \n",
    "        # packing for efficient processing\n",
    "        packed_input = pack_padded_sequence(x, seq_lengths, batch_first=True)\n",
    "        \n",
    "        # propagate through the LSTM\n",
    "        packed_output, state = self.rnn(packed_input, state)\n",
    "        \n",
    "        # unpack for linear layers processing\n",
    "        output, _ = pad_packed_sequence(packed_output, batch_first=True)\n",
    "        #print(\"Unpacked output: \", output.size(), '\\n')\n",
    "        \n",
    "        # Linear layer\n",
    "        output = F.leaky_relu(self.l1(output))\n",
    "\n",
    "        # Linear layer with log_softmax (useful for custom cross-entropy)\n",
    "        output = F.log_softmax(self.out(output), dim=2)\n",
    "\n",
    "        return output, state"
   ]
  },
  {
   "cell_type": "code",
   "execution_count": 8,
   "metadata": {},
   "outputs": [],
   "source": [
    "def masked_cross_ent_loss(y_true, y_pred, pad_token=0, debug=False):\n",
    "    \"\"\"\n",
    "    y_true should be of size (batch_size, seq_len)\n",
    "    y_pred should be of size (batch_size, seq_len, vocab_size) \n",
    "    where vocab_size does not count the token '<PAD>' entry.\n",
    "    \"\"\"\n",
    "    \n",
    "    y_t_flat = y_true.reshape(-1)\n",
    "    y_p_flat = y_pred.view(-1, y_pred.size()[-1])\n",
    "    if debug:\n",
    "        print(\"y_t_flat.size() : \", y_t_flat.size())\n",
    "        print(\"y_p_flat.size() : \", y_p_flat.size())\n",
    "        \n",
    "    mask = (y_t_flat>0).float() # consider only the non-padded words\n",
    "    \n",
    "    num_tokens = int(torch.sum(mask).item()) # check if .item() is good, otherwise use .data[0]\n",
    "    if debug:\n",
    "        print(\"Num tokens : \", num_tokens)\n",
    "        \n",
    "    # for each word choose the log of the prob predicted for the right label\n",
    "    y_p_masked = y_p_flat[range(y_p_flat.shape[0]), y_t_flat] * mask \n",
    "    \n",
    "    # compute cross entropy\n",
    "    cross_ent_loss = - torch.sum(y_p_masked) / num_tokens\n",
    "    if debug:\n",
    "        print(\"Cross-entropy : \", cross_ent_loss)\n",
    "        \n",
    "    return cross_ent_loss\n",
    "    "
   ]
  },
  {
   "cell_type": "code",
   "execution_count": 9,
   "metadata": {},
   "outputs": [],
   "source": [
    "params = dict(vocab_size=len(word2index), emb_dim=100, hidden_units=128, layers_num=2, dropout_prob=0.2)\n",
    "net = Network(**params)"
   ]
  },
  {
   "cell_type": "code",
   "execution_count": 10,
   "metadata": {},
   "outputs": [],
   "source": [
    "optimizer = torch.optim.Adamax(net.parameters(), lr=0.1, weight_decay=1e-4)"
   ]
  },
  {
   "cell_type": "code",
   "execution_count": 11,
   "metadata": {},
   "outputs": [],
   "source": [
    "import time\n",
    "\n",
    "def train_one_epoch(net, optimizer, train_loader, val_loader, debug=False, verbose=True):\n",
    "    \n",
    "    verbose_print = print if verbose else lambda *args, **kwargs : None\n",
    "    \n",
    "    train_loss = 0\n",
    "    val_loss = 0\n",
    "        \n",
    "    n_batches = len(train_loader)\n",
    "    print_every = n_batches // 10\n",
    "    start_time = time.time()\n",
    "    \n",
    "    net.train()\n",
    "    for i, data in enumerate(train_loader,0):\n",
    "        x, y, lengths = data\n",
    "        sorted_x = torch.LongTensor(sorted(x.numpy(), key=lambda x: np.count_nonzero(x), reverse=True))\n",
    "        sorted_y = torch.LongTensor(sorted(y.numpy(), key=lambda x: np.count_nonzero(x), reverse=True))\n",
    "        sorted_lengths = torch.LongTensor(sorted(lengths.numpy(), key=lambda x: x, reverse=True))\n",
    "\n",
    "        L_max = sorted_lengths.max().item()\n",
    "        y_trunc = sorted_y[:,:L_max]\n",
    "\n",
    "        optimizer.zero_grad()\n",
    "        \n",
    "        try:\n",
    "            output, _ = net(sorted_x,sorted_lengths) # returns (output, state)\n",
    "        except RuntimeError:\n",
    "            print(\"Lengths: \", sorted_lengths)\n",
    "            \n",
    "        loss = masked_cross_ent_loss(y_trunc, output, pad_token=0, debug=debug)\n",
    "        loss.backward()\n",
    "        optimizer.step()\n",
    "        \n",
    "        train_loss += loss.item()\n",
    "        \n",
    "        if ((i+1) % (print_every) == 0) or (i == n_batches - 1):\n",
    "                verbose_print('\\r'+\"Batch {}/{}, {:d}% \\t Train loss: {:.3f} took: {:.2f}s \".format(\n",
    "                        i+1, n_batches, int(100 * (i+1) / n_batches), train_loss / (i+1),\n",
    "                        time.time() - start_time), end=' ')\n",
    "    \n",
    "    net.eval()\n",
    "    with torch.no_grad():\n",
    "        for i, data in enumerate(val_loader,0):\n",
    "\n",
    "            x, y, lengths = data\n",
    "            sorted_x = torch.LongTensor(sorted(x.numpy(), key=lambda x: np.count_nonzero(x), reverse=True))\n",
    "            sorted_y = torch.LongTensor(sorted(y.numpy(), key=lambda x: np.count_nonzero(x), reverse=True))\n",
    "            sorted_lengths = torch.LongTensor(sorted(lengths.numpy(), key=lambda x: x, reverse=True))\n",
    "\n",
    "            L_max = sorted_lengths.max().item()\n",
    "            y_trunc = sorted_y[:,:L_max]\n",
    "\n",
    "            output, _ = net(sorted_x, sorted_lengths) # returns (output, state)\n",
    "            loss = masked_cross_ent_loss(y_trunc, output, pad_token=0, debug=debug)\n",
    "\n",
    "            val_loss += loss.item()\n",
    "\n",
    "    return net, optimizer, train_loss/len(train_loader), val_loss/len(val_loader)"
   ]
  },
  {
   "cell_type": "code",
   "execution_count": 50,
   "metadata": {
    "scrolled": false
   },
   "outputs": [
    {
     "name": "stdout",
     "output_type": "stream",
     "text": [
      "Batch 553/553, 100% \t Train loss: 5.903 took: 2590.44s  \n",
      "Epoch: 1 - time: 2718.21 - train loss: 5.9026 - val loss: 5.4374\n",
      "Batch 553/553, 100% \t Train loss: 5.296 took: 2572.29s  \n",
      "Epoch: 2 - time: 2703.51 - train loss: 5.2963 - val loss: 5.1771\n",
      "Batch 553/553, 100% \t Train loss: 5.140 took: 2611.81s  \n",
      "Epoch: 3 - time: 2740.92 - train loss: 5.1401 - val loss: 5.0704\n",
      "Batch 553/553, 100% \t Train loss: 5.052 took: 2616.86s  \n",
      "Epoch: 4 - time: 2738.02 - train loss: 5.0517 - val loss: 5.0309\n",
      "Batch 553/553, 100% \t Train loss: 5.017 took: 2613.74s  \n",
      "Epoch: 5 - time: 2741.10 - train loss: 5.0170 - val loss: 5.0114\n",
      "Batch 553/553, 100% \t Train loss: 5.001 took: 2599.53s  \n",
      "Epoch: 6 - time: 2729.39 - train loss: 5.0011 - val loss: 4.9891\n",
      "Batch 553/553, 100% \t Train loss: 4.990 took: 2588.18s  \n",
      "Epoch: 7 - time: 2715.93 - train loss: 4.9905 - val loss: 4.9924\n",
      "Batch 553/553, 100% \t Train loss: 4.983 took: 2591.37s  \n",
      "Epoch: 8 - time: 2726.06 - train loss: 4.9832 - val loss: 4.9748\n",
      "Batch 553/553, 100% \t Train loss: 4.975 took: 2680.11s  \n",
      "Epoch: 9 - time: 2810.07 - train loss: 4.9754 - val loss: 4.9635\n",
      "Batch 553/553, 100% \t Train loss: 4.971 took: 2602.75s  \n",
      "Epoch: 10 - time: 2733.83 - train loss: 4.9713 - val loss: 4.9682\n",
      "Batch 553/553, 100% \t Train loss: 4.970 took: 2582.44s  \n",
      "Epoch: 11 - time: 2710.30 - train loss: 4.9705 - val loss: 4.9585\n",
      "Batch 553/553, 100% \t Train loss: 4.966 took: 2582.02s  \n",
      "Epoch: 12 - time: 2712.95 - train loss: 4.9659 - val loss: 4.9699\n",
      "Batch 553/553, 100% \t Train loss: 4.964 took: 2600.27s  \n",
      "Epoch: 13 - time: 2729.95 - train loss: 4.9639 - val loss: 4.9605\n",
      "Batch 553/553, 100% \t Train loss: 4.964 took: 2607.29s  \n",
      "Epoch: 14 - time: 2737.69 - train loss: 4.9636 - val loss: 4.9611\n",
      "Batch 553/553, 100% \t Train loss: 4.960 took: 2618.40s  \n",
      "Epoch: 15 - time: 2751.12 - train loss: 4.9600 - val loss: 4.9542\n",
      "Batch 553/553, 100% \t Train loss: 4.958 took: 2585.24s  \n",
      "Epoch: 16 - time: 2711.17 - train loss: 4.9577 - val loss: 4.9559\n",
      "Batch 553/553, 100% \t Train loss: 4.954 took: 2614.69s  \n",
      "Epoch: 17 - time: 2742.56 - train loss: 4.9542 - val loss: 4.9658\n",
      "Batch 553/553, 100% \t Train loss: 4.953 took: 2622.09s  \n",
      "Epoch: 18 - time: 2753.17 - train loss: 4.9532 - val loss: 4.9503\n",
      "Batch 553/553, 100% \t Train loss: 4.954 took: 2616.92s  \n",
      "Epoch: 19 - time: 2749.93 - train loss: 4.9535 - val loss: 4.9400\n",
      "Batch 553/553, 100% \t Train loss: 4.951 took: 2596.15s  \n",
      "Epoch: 20 - time: 2726.31 - train loss: 4.9511 - val loss: 4.9282\n"
     ]
    }
   ],
   "source": [
    "# first cycle of training\n",
    "n_epochs = 20\n",
    "train_log = []\n",
    "val_log = []\n",
    "for e in range(n_epochs):    \n",
    "    \n",
    "    start_time = time.time()\n",
    "    net, optimizer, train_loss, val_loss = train_one_epoch(net, optimizer, train_loader, val_loader, debug=False)\n",
    "    epoch_time = time.time() - start_time\n",
    "    torch.save(net.state_dict(), 'params'+str(e)+'.pth')\n",
    "    train_log.append(train_loss)\n",
    "    val_log.append(val_loss)\n",
    "    print(\"\\nEpoch: %d - time: %.2f - train loss: %.4f - val loss: %.4f\"%((e+1), epoch_time, train_loss, val_loss))\n",
    "torch.save(net.state_dict(), 'final_params.pth')"
   ]
  },
  {
   "cell_type": "code",
   "execution_count": 12,
   "metadata": {},
   "outputs": [],
   "source": [
    "train_log = list(np.load(\"train_log.npy\"))\n",
    "val_log = list(np.load(\"val_log.npy\"))"
   ]
  },
  {
   "cell_type": "code",
   "execution_count": 19,
   "metadata": {},
   "outputs": [
    {
     "data": {
      "image/png": "[encoded data removed]",
      "text/plain": [
       "<Figure size 432x288 with 1 Axes>"
      ]
     },
     "metadata": {
      "needs_background": "light"
     },
     "output_type": "display_data"
    }
   ],
   "source": [
    "import matplotlib.pyplot as plt\n",
    "%matplotlib inline\n",
    "plt.plot(np.array(train_log), label = 'train loss')\n",
    "plt.plot(np.array(val_log), label='val loss')\n",
    "plt.xlabel('Number of epochs', fontsize=16)\n",
    "plt.ylabel('Cross-entropy loss', fontsize=16)\n",
    "plt.xticks(np.arange(0,5)*5)\n",
    "plt.legend()\n",
    "plt.show()"
   ]
  },
  {
   "cell_type": "code",
   "execution_count": 59,
   "metadata": {},
   "outputs": [],
   "source": [
    "np.save(\"train_log\", train_log)\n",
    "np.save(\"val_log\", val_log)"
   ]
  },
  {
   "cell_type": "markdown",
   "metadata": {},
   "source": [
    "## Text generation"
   ]
  },
  {
   "cell_type": "code",
   "execution_count": 53,
   "metadata": {},
   "outputs": [
    {
     "data": {
      "text/plain": [
       "<All keys matched successfully>"
      ]
     },
     "execution_count": 53,
     "metadata": {},
     "output_type": "execute_result"
    }
   ],
   "source": [
    "trained_net = Network(**params)\n",
    "trained_net.load_state_dict(torch.load('final_params.pth'))"
   ]
  },
  {
   "cell_type": "code",
   "execution_count": 54,
   "metadata": {},
   "outputs": [],
   "source": [
    "seed = \"You are mr. Darcy I suppose\""
   ]
  },
  {
   "cell_type": "code",
   "execution_count": 55,
   "metadata": {},
   "outputs": [],
   "source": [
    "def generate_sentence_v0(seed, trained_net, word2index, index2word, len_generated_seq = 10, debug=False, T=1):\n",
    "    \n",
    "    # preprocess seed\n",
    "    import re\n",
    "    special_chars = ['!','?','&','(',')','*','-','_',':',';','\"','\\'','1','2','3','4','5','6','7','8','9','0']\n",
    "    for x in special_chars:\n",
    "        seed = seed.replace(x,' ')\n",
    "    full_text = seed.lower()\n",
    "    full_text = full_text.replace('mr.','mr')\n",
    "    full_text = full_text.replace('mrs.','mrs')\n",
    "    full_text = re.sub('à', 'a', full_text)\n",
    "    full_text = re.sub('ê', 'e', full_text)\n",
    "    full_text = re.sub(r'[.]',' .\\n', full_text)\n",
    "    full_text = full_text.replace(',',' ,')\n",
    "    full_text = full_text.replace('  ',' ')\n",
    "    \n",
    "    num_sentence = prep.numerical_encoder(full_text, word2index)\n",
    "    if debug:\n",
    "        for i,num_w in enumerate(num_sentence):\n",
    "            print(i,num_w)\n",
    "        \n",
    "    enc_sentence = torch.LongTensor(num_sentence).view(1,-1)\n",
    "    context = enc_sentence[:,:-1]\n",
    "    length_context = torch.LongTensor(np.array([len(num_sentence)-1])).view(1)\n",
    "    last_word = enc_sentence[:,-1].view(1,1)\n",
    "    length_last = torch.LongTensor([1]).view(1)\n",
    "    \n",
    "    if debug:\n",
    "        print(\"enc_sentence : \", enc_sentence.size())\n",
    "        print(\"context : \", context.size(), context)\n",
    "        print(\"length_context: \", length_context.size(), length_context)\n",
    "        print(\"last_word: \", last_word.size(), last_word)\n",
    "        \n",
    "    with torch.no_grad():\n",
    "        net.eval()\n",
    "        _, hidden_context = net(context, length_context)\n",
    "\n",
    "        gen_words = []\n",
    "        for i in range(len_generated_seq):\n",
    "            last_word_ohe, hidden_context = net(last_word, length_last, state=hidden_context)\n",
    "            prob_last_word = np.exp(last_word_ohe.numpy().flatten()/T)\n",
    "            prob_last_word = prob_last_word/ prob_last_word.sum()\n",
    "            \n",
    "            if debug:\n",
    "                print(\"prob_last_word (shape): \", prob_last_word.shape)\n",
    "                print(\"Sum of probabilities: \", prob_last_word.sum())\n",
    "                print(\"'<PAD>' probability: \", prob_last_word[0])\n",
    "            last_word_np = np.random.choice(np.arange(len(prob_last_word)), p=prob_last_word)\n",
    "            gen_words.append(last_word_np)\n",
    "            last_word = torch.LongTensor([last_word_np]).view(1,1)\n",
    "            if debug:\n",
    "                print(\"Last word: \", last_word_np)\n",
    "    \n",
    "    gen_words = np.array(gen_words).flatten()\n",
    "    decoded_sentence = prep.numerical_decoder(gen_words, index2word)\n",
    "    output_string = ' '.join(decoded_sentence)\n",
    "    print(\"Seed: \", seed, '\\n')\n",
    "    print(\"Generated sentence: \", output_string)\n",
    "    print(\"\\nAll toghether: \", seed, output_string)"
   ]
  },
  {
   "cell_type": "code",
   "execution_count": 58,
   "metadata": {
    "scrolled": false
   },
   "outputs": [
    {
     "name": "stdout",
     "output_type": "stream",
     "text": [
      "Seed:  You are mr. Darcy I suppose \n",
      "\n",
      "Generated sentence:  you feelings it will be said just s there time , time is nothing from arrear . about . of occupies from i were required i am sorry you . to convince none but i do not keep them , however , by my sisters , never kept feel any chance him our way of interest black on this morning as tom carteret to let care at home from her as when the best better they are very congratulated , replied the time , worth concurrence into tambour . , which you know of the china that seizing , likes\n",
      "\n",
      "All toghether:  You are mr. Darcy I suppose you feelings it will be said just s there time , time is nothing from arrear . about . of occupies from i were required i am sorry you . to convince none but i do not keep them , however , by my sisters , never kept feel any chance him our way of interest black on this morning as tom carteret to let care at home from her as when the best better they are very congratulated , replied the time , worth concurrence into tambour . , which you know of the china that seizing , likes\n"
     ]
    }
   ],
   "source": [
    "generate_sentence_v0(seed, trained_net, word2index, index2word, len_generated_seq=100, debug=False, T=1)"
   ]
  },
  {
   "cell_type": "code",
   "execution_count": null,
   "metadata": {},
   "outputs": [],
   "source": []
  }
 ],
 "metadata": {
  "kernelspec": {
   "display_name": "torch",
   "language": "python",
   "name": "torch"
  },
  "language_info": {
   "codemirror_mode": {
    "name": "ipython",
    "version": 3
   },
   "file_extension": ".py",
   "mimetype": "text/x-python",
   "name": "python",
   "nbconvert_exporter": "python",
   "pygments_lexer": "ipython3",
   "version": "3.7.6"
  }
 },
 "nbformat": 4,
 "nbformat_minor": 2
}
